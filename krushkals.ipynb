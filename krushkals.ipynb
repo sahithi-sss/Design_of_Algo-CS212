{
 "cells": [
  {
   "cell_type": "markdown",
   "id": "5548589d",
   "metadata": {},
   "source": [
    "without Union-Find"
   ]
  },
  {
   "cell_type": "code",
   "execution_count": null,
   "id": "d190c4cc",
   "metadata": {},
   "outputs": [
    {
     "name": "stdout",
     "output_type": "stream",
     "text": [
      "Total Weight of MST: 19\n",
      "Edges in MST: [(2, 3, 4), (0, 3, 5), (0, 1, 10)]\n"
     ]
    }
   ],
   "source": [
    "def kruskal_simple(n, edges):\n",
    "    \"\"\"\n",
    "    Kruskal's Algorithm without Union-Find\n",
    "    :param n: number of vertices (0 to n-1)\n",
    "    :param edges: list of (weight, u, v)\n",
    "    :return: total weight of MST, list of edges in MST\n",
    "    \"\"\"\n",
    "    # Initially, each vertex is its own component\n",
    "    components = [{i} for i in range(n)]\n",
    "\n",
    "    # Sort edges by weight\n",
    "    edges.sort()\n",
    "\n",
    "    mst_weight = 0\n",
    "    mst_edges = []\n",
    "\n",
    "    for w, u, v in edges:\n",
    "        comp_u = comp_v = None\n",
    "        for comp in components:\n",
    "            if u in comp:\n",
    "                comp_u = comp\n",
    "            if v in comp:\n",
    "                comp_v = comp\n",
    "\n",
    "        # If they are in different components, include the edge\n",
    "        if comp_u != comp_v:\n",
    "            mst_weight += w\n",
    "            mst_edges.append((u, v, w))\n",
    "\n",
    "            # Merge the two components\n",
    "            new_comp = comp_u.union(comp_v)\n",
    "            components.remove(comp_u)\n",
    "            components.remove(comp_v)\n",
    "            components.append(new_comp)\n",
    "\n",
    "        # Stop early if we already have n-1 edges in MST\n",
    "        if len(mst_edges) == n - 1:\n",
    "            break\n",
    "\n",
    "    return mst_weight, mst_edges\n",
    "\n",
    "\n",
    "# Example usage\n",
    "if __name__ == \"__main__\":\n",
    "    edges = [\n",
    "        (10, 0, 1),\n",
    "        (6, 0, 2),\n",
    "        (5, 0, 3),\n",
    "        (15, 1, 3),\n",
    "        (4, 2, 3)\n",
    "    ]\n",
    "    n = 4\n",
    "\n",
    "    weight, mst = kruskal_simple(n, edges)\n",
    "    print(\"Total Weight of MST:\", weight)\n",
    "    print(\"Edges in MST:\", mst)\n"
   ]
  }
 ],
 "metadata": {
  "kernelspec": {
   "display_name": ".venv",
   "language": "python",
   "name": "python3"
  },
  "language_info": {
   "codemirror_mode": {
    "name": "ipython",
    "version": 3
   },
   "file_extension": ".py",
   "mimetype": "text/x-python",
   "name": "python",
   "nbconvert_exporter": "python",
   "pygments_lexer": "ipython3",
   "version": "3.12.4"
  }
 },
 "nbformat": 4,
 "nbformat_minor": 5
}
