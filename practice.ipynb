{
 "cells": [
  {
   "cell_type": "markdown",
   "id": "ed77ac92",
   "metadata": {},
   "source": [
    "krushkals algo"
   ]
  },
  {
   "cell_type": "code",
   "execution_count": 13,
   "id": "18efaa46",
   "metadata": {},
   "outputs": [
    {
     "name": "stdout",
     "output_type": "stream",
     "text": [
      "Total Weight of MST: 19\n",
      "Edges in MST: [(2, 3, 4), (0, 3, 5), (0, 1, 10)]\n"
     ]
    }
   ],
   "source": [
    "def kruskal(n, edges):\n",
    "    components = [{i} for i in range(n)]\n",
    "    edges.sort()\n",
    "    mst_weight = 0\n",
    "    mst_edges = []\n",
    "\n",
    "    for w, u, v in edges:\n",
    "        comp_u = comp_v = None\n",
    "        for comp in components:\n",
    "            if u in comp:\n",
    "                comp_u = comp\n",
    "            if v in comp:\n",
    "                comp_v = comp\n",
    "                \n",
    "        \n",
    "        if comp_u != comp_v:\n",
    "            mst_weight += w\n",
    "            mst_edges.append((u, v, w))\n",
    "\n",
    "            # Merge the two components\n",
    "            new_comp = comp_u.union(comp_v)\n",
    "            components.remove(comp_u)\n",
    "            components.remove(comp_v)\n",
    "            components.append(new_comp)\n",
    "\n",
    "        # Stop early if we already have n-1 edges in MST\n",
    "        if len(mst_edges) == n - 1:\n",
    "            break\n",
    "\n",
    "    return mst_weight, mst_edges\n",
    "\n",
    "\n",
    "if __name__ == \"__main__\":\n",
    "    edges = [\n",
    "        (10, 0, 1),\n",
    "        (6, 0, 2),\n",
    "        (5, 0, 3),\n",
    "        (15, 1, 3),\n",
    "        (4, 2, 3)\n",
    "    ]\n",
    "    n = 4\n",
    "\n",
    "    weight, mst = kruskal(n, edges)\n",
    "    print(\"Total Weight of MST:\", weight)\n",
    "    print(\"Edges in MST:\", mst)\n"
   ]
  },
  {
   "cell_type": "markdown",
   "id": "581bd3c9",
   "metadata": {},
   "source": [
    "bucket sort"
   ]
  },
  {
   "cell_type": "code",
   "execution_count": 14,
   "id": "72143e64",
   "metadata": {},
   "outputs": [],
   "source": [
    "def sort_array(nums):\n",
    "    max_nums = max(nums)\n",
    "    nums = [nums/(max_nums + 1) for num in nums]\n",
    "\n",
    "    N = 10\n",
    "    buckets = [[] for _ in range(N)]\n",
    "\n",
    "    for num in nums :\n",
    "        buckets[int(num * N)].append(num)\n",
    "\n",
    "    i = 0\n",
    "    for bucket in buckets:\n",
    "        bucket.sort()\n",
    "        for ele in bucket:\n",
    "            nums[i] = ele\n",
    "            i += 1\n",
    "    \n",
    "    nums = [int(num*(max_nums+1)) for num in nums]\n",
    "    return nums"
   ]
  },
  {
   "cell_type": "markdown",
   "id": "03b8e447",
   "metadata": {},
   "source": [
    "median of medians"
   ]
  },
  {
   "cell_type": "code",
   "execution_count": 15,
   "id": "9e1984d9",
   "metadata": {},
   "outputs": [],
   "source": [
    "def kth_largest(nums, k):\n",
    "    k = len(nums) - k #kth smallest\n",
    "    def select(arr,k):\n",
    "        if len(arr) <= 5:\n",
    "            return sorted(arr)[k]\n",
    "        \n",
    "        sublists = [arr[i:i+5] for i in range(0, len(arr),5)]\n",
    "        medians = [sorted(sublist)[len(sublist)//2] for sublist in sublists]\n",
    "\n",
    "        pivot = select(medians, len(medians)//2)\n",
    "        \n",
    "        low = [x for x in arr if x<pivot]\n",
    "        equal = [x for x in arr if x == pivot]\n",
    "        high = [x for x in arr if x > pivot]\n",
    "\n",
    "        if k < len(low):\n",
    "            return select(low,k)\n",
    "        elif k < len(low) + len(equal):\n",
    "            return pivot\n",
    "        else:\n",
    "            return select(high, k-len(low) - len(equal))\n",
    "        \n",
    "    return select(nums , k)"
   ]
  },
  {
   "cell_type": "code",
   "execution_count": 16,
   "id": "1db7ce14",
   "metadata": {},
   "outputs": [
    {
     "ename": "NameError",
     "evalue": "name 'List' is not defined",
     "output_type": "error",
     "traceback": [
      "\u001b[31m---------------------------------------------------------------------------\u001b[39m",
      "\u001b[31mNameError\u001b[39m                                 Traceback (most recent call last)",
      "\u001b[36mCell\u001b[39m\u001b[36m \u001b[39m\u001b[32mIn[16]\u001b[39m\u001b[32m, line 1\u001b[39m\n\u001b[32m----> \u001b[39m\u001b[32m1\u001b[39m \u001b[38;5;28;01mdef\u001b[39;00m\u001b[38;5;250m \u001b[39m\u001b[34mfindKthLargest\u001b[39m(\u001b[38;5;28mself\u001b[39m, nums: \u001b[43mList\u001b[49m[\u001b[38;5;28mint\u001b[39m], k: \u001b[38;5;28mint\u001b[39m) -> \u001b[38;5;28mint\u001b[39m:\n\u001b[32m      2\u001b[39m     k = \u001b[38;5;28mlen\u001b[39m(nums) - k\n\u001b[32m      4\u001b[39m     \u001b[38;5;28;01mdef\u001b[39;00m\u001b[38;5;250m \u001b[39m\u001b[34mquickSelect\u001b[39m(l, r):\n",
      "\u001b[31mNameError\u001b[39m: name 'List' is not defined"
     ]
    }
   ],
   "source": [
    "    def findKthLargest(self, nums: List[int], k: int) -> int:\n",
    "        k = len(nums) - k\n",
    "\n",
    "        def quickSelect(l, r):\n",
    "            pivot, i = nums[r], l\n",
    "\n",
    "            for j in range(l, r):\n",
    "                if nums[j] <= pivot:\n",
    "                    nums[i], nums[j] = nums[j], nums[i]\n",
    "                    i += 1\n",
    "            nums[i], nums[r] = nums[r], nums[i]\n",
    "\n",
    "            if k < i: return quickSelect(l, i-1)\n",
    "            elif k > i: return quickSelect(i+1, r)\n",
    "            else: return nums[i]\n",
    "\n",
    "        return quickSelect(0, len(nums) - 1)"
   ]
  }
 ],
 "metadata": {
  "kernelspec": {
   "display_name": ".venv",
   "language": "python",
   "name": "python3"
  },
  "language_info": {
   "codemirror_mode": {
    "name": "ipython",
    "version": 3
   },
   "file_extension": ".py",
   "mimetype": "text/x-python",
   "name": "python",
   "nbconvert_exporter": "python",
   "pygments_lexer": "ipython3",
   "version": "3.12.4"
  }
 },
 "nbformat": 4,
 "nbformat_minor": 5
}
