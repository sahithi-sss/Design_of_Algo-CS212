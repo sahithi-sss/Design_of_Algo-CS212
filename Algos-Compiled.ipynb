{
 "cells": [
  {
   "cell_type": "markdown",
   "id": "9f057982",
   "metadata": {},
   "source": [
    "* BFS\n",
    "\n",
    "* DFS\n",
    "\n",
    "* Dijkstra's algo\n",
    "\n",
    "* Bellman Ford's algo\n",
    "\n",
    "* union find \n",
    "\n",
    "* Kruskal's algo\n",
    "\n",
    "* Prim's algo\n",
    "\n",
    "* Independent Set on graphs\n",
    " \n",
    "* Independent set in trees\n",
    "\n",
    "* Median of Medians\n",
    "\n",
    "* Quick Select\n",
    "\n",
    "* Binary Tree Implementation\n",
    "\n",
    "\n"
   ]
  },
  {
   "cell_type": "code",
   "execution_count": 2,
   "id": "3b0b3669",
   "metadata": {},
   "outputs": [],
   "source": [
    "graph = {0:[1,2], 1:[0,3,4], 2:[0,5], 3:[1], 4:[1,5], 5:[2,4]}\n",
    "#graph as an adjacency list"
   ]
  },
  {
   "cell_type": "markdown",
   "id": "097ae906",
   "metadata": {},
   "source": [
    "### BFS"
   ]
  },
  {
   "cell_type": "code",
   "execution_count": 3,
   "id": "8bea0ad0",
   "metadata": {},
   "outputs": [
    {
     "name": "stdout",
     "output_type": "stream",
     "text": [
      "0 1 2 3 4 5 "
     ]
    }
   ],
   "source": [
    "from collections import deque\n",
    "\n",
    "def bfs (adj_list, start):\n",
    "    visited = set()\n",
    "    queue = deque([start])\n",
    "    visited.add(start)\n",
    "\n",
    "    while queue:\n",
    "        node = queue.popleft()\n",
    "        print(node, end = \" \")\n",
    "\n",
    "        for nbr in adj_list[node]:\n",
    "            if nbr not in visited:\n",
    "                visited.add(nbr)\n",
    "                queue.append(nbr)\n",
    "\n",
    "\n",
    "bfs(graph, 0)"
   ]
  },
  {
   "cell_type": "markdown",
   "id": "ac250539",
   "metadata": {},
   "source": [
    "### Shortest path using BFS - unweighted"
   ]
  },
  {
   "cell_type": "code",
   "execution_count": 4,
   "id": "1977fbe5",
   "metadata": {},
   "outputs": [
    {
     "name": "stdout",
     "output_type": "stream",
     "text": [
      "{1: 0, 2: 1, 3: 1, 4: 1, 5: 2, 6: 2, 7: 2, 8: 3}\n"
     ]
    }
   ],
   "source": [
    "from collections import deque\n",
    "\n",
    "adj = { 1: [2,3,4] , 2: [5,6], 3: [2,7,4], 4: [7], 5: [], 6: [7, 8], 7: [8], 8: []}\n",
    "\n",
    "def bfs(adj, src):\n",
    "    dist = {}\n",
    "    visited = set()\n",
    "    q = deque()\n",
    "    q.append((src,0))\n",
    "    visited.add(src)\n",
    "    while q :\n",
    "        node, d = q.popleft()\n",
    "        #print(node, end=\" \")\n",
    "        dist[node] = d\n",
    "\n",
    "        for nbr in adj[node]:\n",
    "            if nbr not in visited :\n",
    "                visited.add(nbr)\n",
    "                q.append((nbr, d + 1))\n",
    "    return dist\n",
    "\n",
    "print(bfs(adj, 1))"
   ]
  },
  {
   "cell_type": "markdown",
   "id": "15eddde8",
   "metadata": {},
   "source": [
    "### DFS"
   ]
  },
  {
   "cell_type": "code",
   "execution_count": 5,
   "id": "94927ce8",
   "metadata": {},
   "outputs": [
    {
     "name": "stdout",
     "output_type": "stream",
     "text": [
      "0 1 3 4 5 2 "
     ]
    }
   ],
   "source": [
    "def dfs(adj_list, start):\n",
    "    visited = set()\n",
    "    stack = [start]\n",
    "\n",
    "    while stack:\n",
    "        node = stack.pop()\n",
    "        if node not in visited:\n",
    "            print(node, end=\" \")  # process the node\n",
    "            visited.add(node)\n",
    "\n",
    "            # push neighbors in reverse order to maintain natural order\n",
    "            for neighbor in reversed(adj_list[node]):\n",
    "                if neighbor not in visited:\n",
    "                    stack.append(neighbor)\n",
    "\n",
    "dfs(graph, 0)"
   ]
  },
  {
   "cell_type": "markdown",
   "id": "eb9bbe4b",
   "metadata": {},
   "source": [
    "### Dijkstra's Algo"
   ]
  },
  {
   "cell_type": "code",
   "execution_count": 6,
   "id": "32ecd8d4",
   "metadata": {},
   "outputs": [],
   "source": [
    "import heapq\n",
    "import collections\n",
    "\n",
    "def dijkstra(n, edges, src):\n",
    "    # Build adjacency list\n",
    "    adj = collections.defaultdict(list)\n",
    "    for u, v, wt in edges:\n",
    "        adj[u].append((v, wt))\n",
    "        adj[v].append((u, wt))  # If graph is undirected, keep this line\n",
    "\n",
    "    dist = {}\n",
    "    pq = [(0, src)]  # (distance, node)\n",
    "\n",
    "    while pq:\n",
    "        d, node = heapq.heappop(pq)\n",
    "        if node in dist:\n",
    "            continue\n",
    "        dist[node] = d\n",
    "\n",
    "        for nbr, wt in adj[node]:\n",
    "            if nbr not in dist:\n",
    "                heapq.heappush(pq, (d + wt, nbr))\n",
    "\n",
    "    # If some nodes are unreachable, assign distance = -1\n",
    "    return {i: dist[i] if i in dist else -1 for i in range(n)}"
   ]
  },
  {
   "cell_type": "code",
   "execution_count": 7,
   "id": "b79b745f",
   "metadata": {},
   "outputs": [
    {
     "name": "stdout",
     "output_type": "stream",
     "text": [
      "Shortest distances from node 0 : {0: 0, 1: 2, 2: 3, 3: 7, 4: 6}\n"
     ]
    }
   ],
   "source": [
    "edges = [\n",
    "    (0, 1, 2),\n",
    "    (0, 2, 4),\n",
    "    (1, 2, 1),\n",
    "    (1, 3, 7),\n",
    "    (2, 4, 3),\n",
    "    (3, 4, 1)\n",
    "]\n",
    "\n",
    "n = 5\n",
    "src = 0\n",
    "print(\"Shortest distances from node\", src, \":\", dijkstra(n, edges, src))"
   ]
  },
  {
   "cell_type": "markdown",
   "id": "2d7e7028",
   "metadata": {},
   "source": [
    "### Bellman Ford"
   ]
  },
  {
   "cell_type": "code",
   "execution_count": 8,
   "id": "45294c0e",
   "metadata": {},
   "outputs": [],
   "source": [
    "def bellman_ford(n, edges, src):\n",
    "    # Step 1: Initialize distances\n",
    "    dist = [float('inf')] * n\n",
    "    dist[src] = 0\n",
    "\n",
    "    # Step 2: Relax all edges n-1 times\n",
    "    for _ in range(n - 1):\n",
    "        for u, v, wt in edges:\n",
    "            if dist[u] != float('inf') and dist[v] > dist[u] + wt:\n",
    "                dist[v] = dist[u] + wt\n",
    "\n",
    "    # Step 3: Check for negative weight cycles\n",
    "    for u, v, wt in edges:\n",
    "        if dist[u] != float('inf') and dist[v] > dist[u] + wt:\n",
    "            print(\"Graph contains a negative weight cycle!\")\n",
    "            return None\n",
    "\n",
    "    # Replace infinity with -1 for unreachable nodes\n",
    "    dist = [d if d != float('inf') else -1 for d in dist]\n",
    "    return dist\n"
   ]
  },
  {
   "cell_type": "code",
   "execution_count": 9,
   "id": "de41366c",
   "metadata": {},
   "outputs": [
    {
     "name": "stdout",
     "output_type": "stream",
     "text": [
      "[0, 4, 1, 5]\n"
     ]
    }
   ],
   "source": [
    "n = 4\n",
    "edges = [\n",
    "    (0, 1, 4),\n",
    "    (0, 2, 5),\n",
    "    (1, 2, -3),\n",
    "    (2, 3, 4),\n",
    "    (3, 1, 6)\n",
    "]\n",
    "\n",
    "print(bellman_ford(n, edges, 0))\n"
   ]
  },
  {
   "cell_type": "markdown",
   "id": "3eef4e74",
   "metadata": {},
   "source": [
    "### Union-Find + Kruskal's algo"
   ]
  },
  {
   "cell_type": "code",
   "execution_count": 10,
   "id": "8057abac",
   "metadata": {},
   "outputs": [],
   "source": [
    "class UnionFind:\n",
    "    def __init__(self, n):\n",
    "        self.par = [i for i in range(n)]\n",
    "        self.size = [1 for _ in range(n)]\n",
    "        self.n = n  # number of connected components\n",
    "\n",
    "    def find(self, v):\n",
    "        while v != self.par[v]:\n",
    "            self.par[v] = self.par[self.par[v]]  # path compression\n",
    "            v = self.par[v]\n",
    "        return v\n",
    "\n",
    "    def union(self, v1, v2):\n",
    "        p1, p2 = self.find(v1), self.find(v2)\n",
    "        if p1 == p2:\n",
    "            return False\n",
    "        if self.size[p1] > self.size[p2]:\n",
    "            self.par[p2] = p1\n",
    "            self.size[p1] += self.size[p2]\n",
    "        else:\n",
    "            self.par[p1] = p2\n",
    "            self.size[p2] += self.size[p1]\n",
    "        self.n -= 1\n",
    "        return True\n"
   ]
  },
  {
   "cell_type": "code",
   "execution_count": 11,
   "id": "fbe0efef",
   "metadata": {},
   "outputs": [],
   "source": [
    "def kruskalsMST(edges, n):\n",
    "    # edges: list of (wt, u, v)\n",
    "    edges.sort()  # sort by weight\n",
    "    mst_len = 0\n",
    "    uf = UnionFind(n)\n",
    "\n",
    "    for wt, u, v in edges:\n",
    "        if uf.union(u, v):  # add edge if it doesn't form a cycle\n",
    "            mst_len += wt\n",
    "            if uf.n == 1:  # all nodes connected\n",
    "                break\n",
    "    return mst_len"
   ]
  },
  {
   "cell_type": "code",
   "execution_count": 12,
   "id": "208bc429",
   "metadata": {},
   "outputs": [
    {
     "name": "stdout",
     "output_type": "stream",
     "text": [
      "MST Weight: 7\n"
     ]
    }
   ],
   "source": [
    "edges = [\n",
    "    (1, 0, 1),\n",
    "    (2, 1, 3),\n",
    "    (3, 0, 3),\n",
    "    (4, 0, 2),\n",
    "    (5, 2, 3)\n",
    "]\n",
    "n = 4  # number of vertices\n",
    "\n",
    "print(\"MST Weight:\", kruskalsMST(edges, n))"
   ]
  },
  {
   "cell_type": "markdown",
   "id": "6d3d5cb0",
   "metadata": {},
   "source": [
    "### Prim's Algo"
   ]
  },
  {
   "cell_type": "code",
   "execution_count": 13,
   "id": "e9e6c801",
   "metadata": {},
   "outputs": [],
   "source": [
    "import heapq\n",
    "\n",
    "def primsMST(n, adj):\n",
    "    visit = set()\n",
    "    pq = [(0, 0)]  # (weight, node)\n",
    "    mst_cost = 0\n",
    "\n",
    "    while pq and len(visit) < n:\n",
    "        wt, node = heapq.heappop(pq)\n",
    "        if node in visit:\n",
    "            continue\n",
    "        visit.add(node)\n",
    "        mst_cost += wt\n",
    "\n",
    "        for nei, w in adj[node]:\n",
    "            if nei not in visit:\n",
    "                heapq.heappush(pq, (w, nei))\n",
    "\n",
    "    return mst_cost"
   ]
  },
  {
   "cell_type": "code",
   "execution_count": 14,
   "id": "0ad98ae5",
   "metadata": {},
   "outputs": [
    {
     "name": "stdout",
     "output_type": "stream",
     "text": [
      "Minimum Spanning Tree Cost: 16\n"
     ]
    }
   ],
   "source": [
    "adj = {\n",
    "    0: [(1, 2), (3, 6)],\n",
    "    1: [(0, 2), (2, 3), (3, 8), (4, 5)],\n",
    "    2: [(1, 3), (4, 7)],\n",
    "    3: [(0, 6), (1, 8)],\n",
    "    4: [(1, 5), (2, 7)]\n",
    "}\n",
    "\n",
    "n = 5  # number of nodes\n",
    "print(\"Minimum Spanning Tree Cost:\", primsMST(n, adj))"
   ]
  },
  {
   "cell_type": "markdown",
   "id": "a572658a",
   "metadata": {},
   "source": [
    "### Independent sets on graphs"
   ]
  },
  {
   "cell_type": "code",
   "execution_count": 15,
   "id": "ce69dfde",
   "metadata": {},
   "outputs": [
    {
     "name": "stdout",
     "output_type": "stream",
     "text": [
      "Independent sets in graph:\n",
      "set()\n",
      "{0}\n",
      "{1}\n",
      "{2}\n",
      "{3}\n",
      "{0, 2}\n",
      "{0, 3}\n",
      "{1, 3}\n"
     ]
    }
   ],
   "source": [
    "from itertools import combinations\n",
    "\n",
    "def independent_sets_graph(n, edges):\n",
    "    # Build adjacency set for quick lookup\n",
    "    adj = {i: set() for i in range(n)}\n",
    "    for u, v in edges:\n",
    "        adj[u].add(v)\n",
    "        adj[v].add(u)\n",
    "\n",
    "    independent_sets = []\n",
    "    # Try all subsets\n",
    "    for r in range(n+1):\n",
    "        for subset in combinations(range(n), r):\n",
    "            ok = True\n",
    "            for i in subset:\n",
    "                for j in subset:\n",
    "                    if i != j and j in adj[i]:\n",
    "                        ok = False\n",
    "                        break\n",
    "                if not ok:\n",
    "                    break\n",
    "            if ok:\n",
    "                independent_sets.append(set(subset))\n",
    "    return independent_sets\n",
    "\n",
    "# Example graph\n",
    "n = 4\n",
    "edges = [(0,1),(1,2),(2,3)]   # path graph 0-1-2-3\n",
    "print(\"Independent sets in graph:\")\n",
    "for s in independent_sets_graph(n, edges):\n",
    "    print(s)\n"
   ]
  },
  {
   "cell_type": "markdown",
   "id": "356b5905",
   "metadata": {},
   "source": [
    "### independent set on trees"
   ]
  },
  {
   "cell_type": "code",
   "execution_count": 16,
   "id": "ad624765",
   "metadata": {},
   "outputs": [
    {
     "name": "stdout",
     "output_type": "stream",
     "text": [
      "Maximum independent set size in tree: 3\n"
     ]
    }
   ],
   "source": [
    "from collections import defaultdict\n",
    "\n",
    "def tree_dp_independent_set(n, edges):\n",
    "    graph = defaultdict(list)\n",
    "    for u, v in edges:\n",
    "        graph[u].append(v)\n",
    "        graph[v].append(u)\n",
    "\n",
    "    dp = [[0,0] for _ in range(n)]\n",
    "    visited = [False]*n\n",
    "\n",
    "    def dfs(u):\n",
    "        visited[u] = True\n",
    "        dp[u][0] = 0   # u not included\n",
    "        dp[u][1] = 1   # u included\n",
    "        for v in graph[u]:\n",
    "            if not visited[v]:\n",
    "                dfs(v)\n",
    "                dp[u][0] += max(dp[v][0], dp[v][1])\n",
    "                dp[u][1] += dp[v][0]   # if u included, v cannot be included\n",
    "\n",
    "    dfs(0)  # assume 0 as root\n",
    "    return max(dp[0][0], dp[0][1])\n",
    "\n",
    "# Example tree\n",
    "n = 5\n",
    "edges = [(0,1),(0,2),(1,3),(1,4)]\n",
    "print(\"Maximum independent set size in tree:\", tree_dp_independent_set(n, edges))\n"
   ]
  },
  {
   "cell_type": "markdown",
   "id": "0c0307c9",
   "metadata": {},
   "source": [
    "### Median of Medians"
   ]
  },
  {
   "cell_type": "code",
   "execution_count": null,
   "id": "932a86b0",
   "metadata": {},
   "outputs": [],
   "source": [
    "class Solution:\n",
    "    def findKthLargest(self, nums: List[int], k: int) -> int:\n",
    "        k = len(nums) - k  # convert to k-th smallest\n",
    "\n",
    "        def select(arr, k):\n",
    "            if len(arr) <= 5:\n",
    "                return sorted(arr)[k]\n",
    "\n",
    "            # Split into groups of 5\n",
    "            sublists = [arr[i:i + 5] for i in range(0, len(arr), 5)]\n",
    "            medians = [sorted(sublist)[len(sublist) // 2] for sublist in sublists]\n",
    "\n",
    "            # Find pivot using recursive median-of-medians\n",
    "            pivot = select(medians, len(medians) // 2)\n",
    "\n",
    "            # Partition\n",
    "            low  = [x for x in arr if x < pivot]\n",
    "            equal = [x for x in arr if x == pivot]\n",
    "            high = [x for x in arr if x > pivot]\n",
    "\n",
    "            if k < len(low):\n",
    "                return select(low, k)\n",
    "            elif k < len(low) + len(equal):\n",
    "                return pivot\n",
    "            else:\n",
    "                return select(high, k - len(low) - len(equal))\n",
    "\n",
    "        return select(nums, k)\n"
   ]
  },
  {
   "cell_type": "markdown",
   "id": "2bc23fa1",
   "metadata": {},
   "source": [
    "### Quick select"
   ]
  },
  {
   "cell_type": "code",
   "execution_count": null,
   "id": "d3187b29",
   "metadata": {},
   "outputs": [],
   "source": [
    "class Solution:\n",
    "    def findKthLargest(self, nums: List[int], k: int) -> int:\n",
    "        k = len(nums) - k\n",
    "\n",
    "        def quickSelect(l, r):\n",
    "            pivot, i = nums[r], l\n",
    "\n",
    "            for j in range(l, r):\n",
    "                if nums[j] <= pivot:\n",
    "                    nums[i], nums[j] = nums[j], nums[i]\n",
    "                    i += 1\n",
    "            nums[i], nums[r] = nums[r], nums[i]\n",
    "\n",
    "            if k < i: return quickSelect(l, i-1)\n",
    "            elif k > i: return quickSelect(i+1, r)\n",
    "            else: return nums[i]\n",
    "\n",
    "        return quickSelect(0, len(nums) - 1)\n"
   ]
  },
  {
   "cell_type": "markdown",
   "id": "eeb1a84c",
   "metadata": {},
   "source": [
    "### BST implementation"
   ]
  },
  {
   "cell_type": "code",
   "execution_count": 1,
   "id": "70b8b23e",
   "metadata": {},
   "outputs": [
    {
     "name": "stdout",
     "output_type": "stream",
     "text": [
      "Inorder traversal: 20 30 40 50 60 70 80 \n",
      "Preorder traversal: 50 30 20 40 70 60 80 \n",
      "Postorder traversal: 20 40 30 60 80 70 50 \n",
      "\n",
      "Search for 40: Found\n",
      "\n",
      "Delete 20\n",
      "30 40 50 60 70 80 \n",
      "Delete 30\n",
      "40 50 60 70 80 \n",
      "Delete 50\n",
      "40 60 70 80 "
     ]
    }
   ],
   "source": [
    "class Node:\n",
    "    def __init__(self, key):\n",
    "        self.key = key\n",
    "        self.left = None\n",
    "        self.right = None\n",
    "\n",
    "\n",
    "class BST:\n",
    "    def __init__(self):\n",
    "        self.root = None\n",
    "\n",
    "    # Insert a node\n",
    "    def insert(self, root, key):\n",
    "        if root is None:\n",
    "            return Node(key)\n",
    "        if key < root.key:\n",
    "            root.left = self.insert(root.left, key)\n",
    "        elif key > root.key:\n",
    "            root.right = self.insert(root.right, key)\n",
    "        return root\n",
    "\n",
    "    # Search for a node\n",
    "    def search(self, root, key):\n",
    "        if root is None or root.key == key:\n",
    "            return root\n",
    "        if key < root.key:\n",
    "            return self.search(root.left, key)\n",
    "        return self.search(root.right, key)\n",
    "\n",
    "    # Find min value node (helper for deletion)\n",
    "    def minValueNode(self, node):\n",
    "        current = node\n",
    "        while current.left is not None:\n",
    "            current = current.left\n",
    "        return current\n",
    "\n",
    "    # Delete a node\n",
    "    def delete(self, root, key):\n",
    "        if root is None:\n",
    "            return root\n",
    "        if key < root.key:\n",
    "            root.left = self.delete(root.left, key)\n",
    "        elif key > root.key:\n",
    "            root.right = self.delete(root.right, key)\n",
    "        else:\n",
    "            # Node with only one child or no child\n",
    "            if root.left is None:\n",
    "                return root.right\n",
    "            elif root.right is None:\n",
    "                return root.left\n",
    "            # Node with two children: get inorder successor\n",
    "            temp = self.minValueNode(root.right)\n",
    "            root.key = temp.key\n",
    "            root.right = self.delete(root.right, temp.key)\n",
    "        return root\n",
    "\n",
    "    # Traversals\n",
    "    def inorder(self, root):\n",
    "        if root:\n",
    "            self.inorder(root.left)\n",
    "            print(root.key, end=\" \")\n",
    "            self.inorder(root.right)\n",
    "\n",
    "    def preorder(self, root):\n",
    "        if root:\n",
    "            print(root.key, end=\" \")\n",
    "            self.preorder(root.left)\n",
    "            self.preorder(root.right)\n",
    "\n",
    "    def postorder(self, root):\n",
    "        if root:\n",
    "            self.postorder(root.left)\n",
    "            self.postorder(root.right)\n",
    "            print(root.key, end=\" \")\n",
    "\n",
    "\n",
    "# Example usage:\n",
    "bst = BST()\n",
    "root = None\n",
    "# Insert values\n",
    "for val in [50, 30, 20, 40, 70, 60, 80]:\n",
    "    root = bst.insert(root, val)\n",
    "\n",
    "print(\"Inorder traversal: \", end=\"\")\n",
    "bst.inorder(root)\n",
    "print(\"\\nPreorder traversal: \", end=\"\")\n",
    "bst.preorder(root)\n",
    "print(\"\\nPostorder traversal: \", end=\"\")\n",
    "bst.postorder(root)\n",
    "\n",
    "print(\"\\n\\nSearch for 40:\", \"Found\" if bst.search(root, 40) else \"Not Found\")\n",
    "\n",
    "print(\"\\nDelete 20\")\n",
    "root = bst.delete(root, 20)\n",
    "bst.inorder(root)\n",
    "\n",
    "print(\"\\nDelete 30\")\n",
    "root = bst.delete(root, 30)\n",
    "bst.inorder(root)\n",
    "\n",
    "print(\"\\nDelete 50\")\n",
    "root = bst.delete(root, 50)\n",
    "bst.inorder(root)\n"
   ]
  }
 ],
 "metadata": {
  "kernelspec": {
   "display_name": "Python 3",
   "language": "python",
   "name": "python3"
  },
  "language_info": {
   "codemirror_mode": {
    "name": "ipython",
    "version": 3
   },
   "file_extension": ".py",
   "mimetype": "text/x-python",
   "name": "python",
   "nbconvert_exporter": "python",
   "pygments_lexer": "ipython3",
   "version": "3.12.4"
  }
 },
 "nbformat": 4,
 "nbformat_minor": 5
}
